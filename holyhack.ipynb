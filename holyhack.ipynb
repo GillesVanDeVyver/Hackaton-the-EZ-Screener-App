{
 "cells": [
  {
   "cell_type": "code",
   "execution_count": 34,
   "metadata": {
    "collapsed": true
   },
   "outputs": [
    {
     "name": "stdout",
     "output_type": "stream",
     "text": [
      "yes\n"
     ]
    }
   ],
   "source": [
    "from bs4 import BeautifulSoup\n",
    "from selenium import webdriver\n",
    "import json\n",
    "from time import sleep\n",
    "from random import randrange\n",
    "import pandas as pd\n",
    "\n",
    "url='https://www.indeed.com/cmp/'+(input(x)+'/reviews'\n",
    "driver = webdriver.Safari()\n",
    "driver.get(url)\n",
    "    #rnd=randrange(1,2)\n",
    "    #sleep(rnd)\n",
    "page=driver.page_source\n",
    "driver.close()\n",
    "\n",
    "soup = BeautifulSoup(page, \"html.parser\")\n",
    "soup.prettify()\n",
    "\n",
    "links = []\n",
    "for elem in soup.find_all(\"a\"):\n",
    "    links.append(elem.get(\"href\"))\n",
    "list_of_links=[]\n",
    "\n",
    "for elem in links:\n",
    "    if \"https\" in str(elem):\n",
    "        elem.split(':h')\n",
    "        list_of_links.append('h'+elem[1])\n",
    "\n",
    "if 'https://www.indeed.com/cmp//reviews' in links:\n",
    "    print('yes')"
   ]
  },
  {
   "cell_type": "code",
   "execution_count": 33,
   "outputs": [],
   "source": [],
   "metadata": {
    "collapsed": false,
    "pycharm": {
     "name": "#%%\n"
    }
   }
  },
  {
   "cell_type": "code",
   "execution_count": null,
   "outputs": [],
   "source": [],
   "metadata": {
    "collapsed": false,
    "pycharm": {
     "name": "#%%\n"
    }
   }
  }
 ],
 "metadata": {
  "kernelspec": {
   "display_name": "Python 3",
   "language": "python",
   "name": "python3"
  },
  "language_info": {
   "codemirror_mode": {
    "name": "ipython",
    "version": 2
   },
   "file_extension": ".py",
   "mimetype": "text/x-python",
   "name": "python",
   "nbconvert_exporter": "python",
   "pygments_lexer": "ipython2",
   "version": "2.7.6"
  }
 },
 "nbformat": 4,
 "nbformat_minor": 0
} 
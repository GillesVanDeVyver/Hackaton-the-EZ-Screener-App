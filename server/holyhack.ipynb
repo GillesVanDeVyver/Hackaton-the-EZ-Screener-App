{
 "cells": [
  {
   "cell_type": "code",
   "execution_count": 36,
   "metadata": {
    "collapsed": true
   },
   "outputs": [
    {
     "name": "stdout",
     "output_type": "stream",
     "text": [
      "[None, 'https://support.google.com/websearch/answer/181196?hl=nl-BE', None, 'https://policies.google.com/technologies/cookies?utm_source=ucbs&hl=nl-BE', 'https://policies.google.com/privacy?hl=nl-BE&fg=1&utm_source=ucbs', 'https://policies.google.com/terms?hl=nl-BE&fg=1&utm_source=ucbs', 'https://www.google.com/webhp?hl=nl&sa=X&ved=0ahUKEwinhfS64tD2AhUJ2KQKHYXVBuAQPAgS', '#', 'https://maps.google.com/maps?q=halff+indeed&um=1&ie=UTF-8&sa=X&ved=2ahUKEwinhfS64tD2AhUJ2KQKHYXVBuAQ_AUoAXoECAEQAw', '/search?q=halff+indeed&source=lnms&tbm=isch&sa=X&ved=2ahUKEwinhfS64tD2AhUJ2KQKHYXVBuAQ_AUoAnoECAEQBA', '/search?q=halff+indeed&source=lnms&tbm=nws&sa=X&ved=2ahUKEwinhfS64tD2AhUJ2KQKHYXVBuAQ_AUoA3oECAEQBQ', '/search?q=halff+indeed&source=lnms&tbm=shop&sa=X&ved=2ahUKEwinhfS64tD2AhUJ2KQKHYXVBuAQ_AUoBHoECAEQBg', '#', '/setprefs?sig=0_79CwcUFolLzANRqnrV6ldZ3dS0s%3D&source=en_ignored_notification&prev=https://www.google.com/search?q%3Dhalff%2Bindeed&hl=en&sa=X&ved=2ahUKEwinhfS64tD2AhUJ2KQKHYXVBuAQhoQCKAF6BAgBECk', '#', '/preferences?sa=X&ved=2ahUKEwinhfS64tD2AhUJ2KQKHYXVBuAQiIQCKAN6BAgBECs#languages', 'https://www.indeed.com/cmp/Halff-Associates,-Inc./reviews', '#', 'https://webcache.googleusercontent.com/search?q=cache:9iPnF6sn4iUJ:https://www.indeed.com/cmp/Halff-Associates,-Inc./reviews+&cd=1&hl=nl&ct=clnk&gl=be', 'https://translate.google.com/translate?hl=nl&sl=en&u=https://www.indeed.com/cmp/Halff-Associates,-Inc./reviews&prev=search&pto=aue', 'https://www.indeed.com/q-Halff-Associates-jobs.html', '#', 'https://webcache.googleusercontent.com/search?q=cache:fSPIIXto4qwJ:https://www.indeed.com/q-Halff-Associates-jobs.html+&cd=2&hl=nl&ct=clnk&gl=be', 'https://translate.google.com/translate?hl=nl&sl=en&u=https://www.indeed.com/q-Halff-Associates-jobs.html&prev=search&pto=aue', 'https://www.indeed.com/cmp/Halff-Associates,-Inc.', '#', 'https://webcache.googleusercontent.com/search?q=cache:8F2XlidVdQAJ:https://www.indeed.com/cmp/Halff-Associates,-Inc.+&cd=3&hl=nl&ct=clnk&gl=be', 'https://translate.google.com/translate?hl=nl&sl=en&u=https://www.indeed.com/cmp/Halff-Associates,-Inc.&prev=search&pto=aue', 'https://www.indeed.com/cmp/Halff-Associates,-Inc./jobs', '#', 'https://webcache.googleusercontent.com/search?q=cache:yE8n-QXLIrcJ:https://www.indeed.com/cmp/Halff-Associates,-Inc./jobs+&cd=4&hl=nl&ct=clnk&gl=be', 'https://translate.google.com/translate?hl=nl&sl=en&u=https://www.indeed.com/cmp/Halff-Associates,-Inc./jobs&prev=search&pto=aue', 'https://www.indeed.com/cmp/Halff-Energy', '#', 'https://webcache.googleusercontent.com/search?q=cache:IexlBak3NeUJ:https://www.indeed.com/cmp/Halff-Energy+&cd=5&hl=nl&ct=clnk&gl=be', 'https://translate.google.com/translate?hl=nl&sl=en&u=https://www.indeed.com/cmp/Halff-Energy&prev=search&pto=aue', 'https://www.indeed.com/cmp/Halff-Energy-1', '#', 'https://webcache.googleusercontent.com/search?q=cache:NazcbTXom_4J:https://www.indeed.com/cmp/Halff-Energy-1+&cd=6&hl=nl&ct=clnk&gl=be', 'https://translate.google.com/translate?hl=nl&sl=en&u=https://www.indeed.com/cmp/Halff-Energy-1&prev=search&pto=aue', 'https://www.indeed.com/cmp/Halff-Associates,-Inc./reviews?ftopic=jobsecadv', '#', 'https://webcache.googleusercontent.com/search?q=cache:jt391OYpdn0J:https://www.indeed.com/cmp/Halff-Associates,-Inc./reviews%3Fftopic%3Djobsecadv+&cd=7&hl=nl&ct=clnk&gl=be', 'https://translate.google.com/translate?hl=nl&sl=en&u=https://www.indeed.com/cmp/Halff-Associates,-Inc./reviews%3Fftopic%3Djobsecadv&prev=search&pto=aue', 'https://www.indeed.com/cmp/Halff-Associates,-Inc./reviews?ftopic=wlbalance', 'https://translate.google.com/translate?hl=nl&sl=en&u=https://www.indeed.com/cmp/Halff-Associates,-Inc./reviews%3Fftopic%3Dwlbalance&prev=search&pto=aue', 'https://www.indeed.com/cmp/Halff-Associates,-Inc./reviews?ftopic=paybenefits', '#', 'https://webcache.googleusercontent.com/search?q=cache:Evt7BfgcUrQJ:https://www.indeed.com/cmp/Halff-Associates,-Inc./reviews%3Fftopic%3Dpaybenefits+&cd=9&hl=nl&ct=clnk&gl=be', 'https://translate.google.com/translate?hl=nl&sl=en&u=https://www.indeed.com/cmp/Halff-Associates,-Inc./reviews%3Fftopic%3Dpaybenefits&prev=search&pto=aue', 'https://www.indeed.com/cmp/Halff-Associates,-Inc./topics/work-from-home', '#', 'https://webcache.googleusercontent.com/search?q=cache:RlVl5IKnqdAJ:https://www.indeed.com/cmp/Halff-Associates,-Inc./topics/work-from-home+&cd=10&hl=nl&ct=clnk&gl=be', 'https://translate.google.com/translate?hl=nl&sl=en&u=https://www.indeed.com/cmp/Halff-Associates,-Inc./topics/work-from-home&prev=search&pto=aue', '/search?q=Halff+Associates&sa=X&ved=2ahUKEwinhfS64tD2AhUJ2KQKHYXVBuAQ1QJ6BAgcEAE', '/search?q=halff+indeed&ei=vA81Yqe3GomwkwWFq5uADg&start=10&sa=N&ved=2ahUKEwinhfS64tD2AhUJ2KQKHYXVBuAQ8tMDegQIARBC', '/search?q=halff+indeed&ei=vA81Yqe3GomwkwWFq5uADg&start=20&sa=N&ved=2ahUKEwinhfS64tD2AhUJ2KQKHYXVBuAQ8tMDegQIARBE', '/search?q=halff+indeed&ei=vA81Yqe3GomwkwWFq5uADg&start=30&sa=N&ved=2ahUKEwinhfS64tD2AhUJ2KQKHYXVBuAQ8tMDegQIARBG', '/search?q=halff+indeed&ei=vA81Yqe3GomwkwWFq5uADg&start=40&sa=N&ved=2ahUKEwinhfS64tD2AhUJ2KQKHYXVBuAQ8tMDegQIARBI', '/search?q=halff+indeed&ei=vA81Yqe3GomwkwWFq5uADg&start=50&sa=N&ved=2ahUKEwinhfS64tD2AhUJ2KQKHYXVBuAQ8tMDegQIARBK', '/search?q=halff+indeed&ei=vA81Yqe3GomwkwWFq5uADg&start=10&sa=N&ved=2ahUKEwinhfS64tD2AhUJ2KQKHYXVBuAQ8NMDegQIARBM', 'https://support.google.com/websearch/?p=ws_results_help&hl=nl-BE&fg=1', '#', 'https://policies.google.com/privacy?hl=nl-BE&fg=1', 'https://policies.google.com/terms?hl=nl-BE&fg=1']\n",
      "['ht', 'ht', 'ht', 'ht', 'ht', 'ht', 'hs', 'ht', 'ht', 'ht', 'ht', 'ht', 'ht', 'ht', 'ht', 'ht', 'ht', 'ht', 'ht', 'ht', 'ht', 'ht', 'ht', 'ht', 'ht', 'ht', 'ht', 'ht', 'ht', 'ht', 'ht', 'ht', 'ht', 'ht', 'ht', 'ht', 'ht', 'ht', 'ht']\n"
     ]
    }
   ],
   "source": [
    "from bs4 import BeautifulSoup\n",
    "from selenium import webdriver\n",
    "import json\n",
    "from time import sleep\n",
    "from random import randrange\n",
    "import pandas as pd\n",
    "\n",
    "url=\"https://www.google.com/search?q=halff%20indeed\"\n",
    "driver = webdriver.Safari()\n",
    "driver.get(url)\n",
    "    #rnd=randrange(1,2)\n",
    "    #sleep(rnd)\n",
    "page=driver.page_source\n",
    "driver.close()\n",
    "\n",
    "soup = BeautifulSoup(page, \"html.parser\")\n",
    "soup.prettify()\n",
    "\n",
    "\n",
    "links = []\n",
    "for elem in soup.find_all(\"a\"):\n",
    "    links.append(elem.get(\"href\"))\n",
    "\n",
    "print(links)\n",
    "list_of_links=[]\n",
    "\n",
    "for elem in links:\n",
    "    if \"https\" in str(elem):\n",
    "        elem.split(':h')\n",
    "        list_of_links.append('h'+elem[1])\n",
    "\n",
    "print(list_of_links)\n",
    "#if 'https://www.indeed.com/cmp/Halff-Associates,-Inc./reviews' in links:\n",
    "    #print('yes')"
   ]
  },
  {
   "cell_type": "code",
   "execution_count": null,
   "outputs": [],
   "source": [],
   "metadata": {
    "collapsed": false,
    "pycharm": {
     "name": "#%%\n"
    }
   }
  }
 ],
 "metadata": {
  "kernelspec": {
   "display_name": "Python 3",
   "language": "python",
   "name": "python3"
  },
  "language_info": {
   "codemirror_mode": {
    "name": "ipython",
    "version": 2
   },
   "file_extension": ".py",
   "mimetype": "text/x-python",
   "name": "python",
   "nbconvert_exporter": "python",
   "pygments_lexer": "ipython2",
   "version": "2.7.6"
  }
 },
 "nbformat": 4,
 "nbformat_minor": 0
}